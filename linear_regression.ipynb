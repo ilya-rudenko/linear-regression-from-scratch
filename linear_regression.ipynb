{
 "metadata": {
  "kernelspec": {
   "display_name": "Python 3",
   "language": "python",
   "name": "python3"
  },
  "language_info": {
   "name": "python",
   "version": "3.10.12",
   "mimetype": "text/x-python",
   "codemirror_mode": {
    "name": "ipython",
    "version": 3
   },
   "pygments_lexer": "ipython3",
   "nbconvert_exporter": "python",
   "file_extension": ".py"
  },
  "kaggle": {
   "accelerator": "none",
   "dataSources": [
    {
     "sourceId": 6051848,
     "sourceType": "datasetVersion",
     "datasetId": 3462333
    }
   ],
   "dockerImageVersionId": 30558,
   "isInternetEnabled": true,
   "language": "python",
   "sourceType": "notebook",
   "isGpuEnabled": false
  }
 },
 "nbformat_minor": 4,
 "nbformat": 4,
 "cells": [
  {
   "cell_type": "code",
   "source": [
    "import pandas as pd\n",
    "import numpy as np\n",
    "from matplotlib import pyplot as plt\n",
    "from IPython.display import Math"
   ],
   "metadata": {
    "execution": {
     "iopub.status.busy": "2023-11-26T15:19:28.330961Z",
     "iopub.execute_input": "2023-11-26T15:19:28.331594Z",
     "iopub.status.idle": "2023-11-26T15:19:28.338936Z",
     "shell.execute_reply.started": "2023-11-26T15:19:28.331546Z",
     "shell.execute_reply": "2023-11-26T15:19:28.337402Z"
    },
    "trusted": true,
    "ExecuteTime": {
     "end_time": "2023-12-13T13:40:29.379564384Z",
     "start_time": "2023-12-13T13:40:27.009212597Z"
    }
   },
   "execution_count": 1,
   "outputs": []
  },
  {
   "cell_type": "code",
   "source": [
    "filename = \"./Student_Performance.csv\""
   ],
   "metadata": {
    "collapsed": false,
    "execution": {
     "iopub.status.busy": "2023-11-26T15:19:28.553461Z",
     "iopub.execute_input": "2023-11-26T15:19:28.554026Z",
     "iopub.status.idle": "2023-11-26T15:19:28.559054Z",
     "shell.execute_reply.started": "2023-11-26T15:19:28.553964Z",
     "shell.execute_reply": "2023-11-26T15:19:28.557986Z"
    },
    "trusted": true,
    "ExecuteTime": {
     "end_time": "2023-12-13T13:40:33.166671677Z",
     "start_time": "2023-12-13T13:40:33.148273028Z"
    }
   },
   "execution_count": 2,
   "outputs": []
  },
  {
   "cell_type": "code",
   "source": [
    "df = pd.read_csv(filename)\n",
    "df.info()"
   ],
   "metadata": {
    "collapsed": false,
    "execution": {
     "iopub.status.busy": "2023-11-26T15:19:28.733499Z",
     "iopub.execute_input": "2023-11-26T15:19:28.734000Z",
     "iopub.status.idle": "2023-11-26T15:19:28.756895Z",
     "shell.execute_reply.started": "2023-11-26T15:19:28.733943Z",
     "shell.execute_reply": "2023-11-26T15:19:28.754830Z"
    },
    "trusted": true,
    "ExecuteTime": {
     "end_time": "2023-12-13T13:40:33.822100990Z",
     "start_time": "2023-12-13T13:40:33.782891495Z"
    }
   },
   "execution_count": 3,
   "outputs": [
    {
     "name": "stdout",
     "output_type": "stream",
     "text": [
      "<class 'pandas.core.frame.DataFrame'>\n",
      "RangeIndex: 10000 entries, 0 to 9999\n",
      "Data columns (total 6 columns):\n",
      " #   Column                            Non-Null Count  Dtype  \n",
      "---  ------                            --------------  -----  \n",
      " 0   Hours Studied                     10000 non-null  int64  \n",
      " 1   Previous Scores                   10000 non-null  int64  \n",
      " 2   Extracurricular Activities        10000 non-null  object \n",
      " 3   Sleep Hours                       10000 non-null  int64  \n",
      " 4   Sample Question Papers Practiced  10000 non-null  int64  \n",
      " 5   Performance Index                 10000 non-null  float64\n",
      "dtypes: float64(1), int64(4), object(1)\n",
      "memory usage: 468.9+ KB\n"
     ]
    }
   ]
  },
  {
   "cell_type": "code",
   "source": [
    "display(df)"
   ],
   "metadata": {
    "collapsed": false,
    "execution": {
     "iopub.status.busy": "2023-11-26T15:19:28.928542Z",
     "iopub.execute_input": "2023-11-26T15:19:28.930237Z",
     "iopub.status.idle": "2023-11-26T15:19:28.949825Z",
     "shell.execute_reply.started": "2023-11-26T15:19:28.930183Z",
     "shell.execute_reply": "2023-11-26T15:19:28.948497Z"
    },
    "trusted": true,
    "ExecuteTime": {
     "end_time": "2023-12-13T13:40:34.437275347Z",
     "start_time": "2023-12-13T13:40:34.376415996Z"
    }
   },
   "execution_count": 4,
   "outputs": [
    {
     "data": {
      "text/plain": "      Hours Studied  Previous Scores Extracurricular Activities  Sleep Hours  \\\n0                 7               99                        Yes            9   \n1                 4               82                         No            4   \n2                 8               51                        Yes            7   \n3                 5               52                        Yes            5   \n4                 7               75                         No            8   \n...             ...              ...                        ...          ...   \n9995              1               49                        Yes            4   \n9996              7               64                        Yes            8   \n9997              6               83                        Yes            8   \n9998              9               97                        Yes            7   \n9999              7               74                         No            8   \n\n      Sample Question Papers Practiced  Performance Index  \n0                                    1               91.0  \n1                                    2               65.0  \n2                                    2               45.0  \n3                                    2               36.0  \n4                                    5               66.0  \n...                                ...                ...  \n9995                                 2               23.0  \n9996                                 5               58.0  \n9997                                 5               74.0  \n9998                                 0               95.0  \n9999                                 1               64.0  \n\n[10000 rows x 6 columns]",
      "text/html": "<div>\n<style scoped>\n    .dataframe tbody tr th:only-of-type {\n        vertical-align: middle;\n    }\n\n    .dataframe tbody tr th {\n        vertical-align: top;\n    }\n\n    .dataframe thead th {\n        text-align: right;\n    }\n</style>\n<table border=\"1\" class=\"dataframe\">\n  <thead>\n    <tr style=\"text-align: right;\">\n      <th></th>\n      <th>Hours Studied</th>\n      <th>Previous Scores</th>\n      <th>Extracurricular Activities</th>\n      <th>Sleep Hours</th>\n      <th>Sample Question Papers Practiced</th>\n      <th>Performance Index</th>\n    </tr>\n  </thead>\n  <tbody>\n    <tr>\n      <th>0</th>\n      <td>7</td>\n      <td>99</td>\n      <td>Yes</td>\n      <td>9</td>\n      <td>1</td>\n      <td>91.0</td>\n    </tr>\n    <tr>\n      <th>1</th>\n      <td>4</td>\n      <td>82</td>\n      <td>No</td>\n      <td>4</td>\n      <td>2</td>\n      <td>65.0</td>\n    </tr>\n    <tr>\n      <th>2</th>\n      <td>8</td>\n      <td>51</td>\n      <td>Yes</td>\n      <td>7</td>\n      <td>2</td>\n      <td>45.0</td>\n    </tr>\n    <tr>\n      <th>3</th>\n      <td>5</td>\n      <td>52</td>\n      <td>Yes</td>\n      <td>5</td>\n      <td>2</td>\n      <td>36.0</td>\n    </tr>\n    <tr>\n      <th>4</th>\n      <td>7</td>\n      <td>75</td>\n      <td>No</td>\n      <td>8</td>\n      <td>5</td>\n      <td>66.0</td>\n    </tr>\n    <tr>\n      <th>...</th>\n      <td>...</td>\n      <td>...</td>\n      <td>...</td>\n      <td>...</td>\n      <td>...</td>\n      <td>...</td>\n    </tr>\n    <tr>\n      <th>9995</th>\n      <td>1</td>\n      <td>49</td>\n      <td>Yes</td>\n      <td>4</td>\n      <td>2</td>\n      <td>23.0</td>\n    </tr>\n    <tr>\n      <th>9996</th>\n      <td>7</td>\n      <td>64</td>\n      <td>Yes</td>\n      <td>8</td>\n      <td>5</td>\n      <td>58.0</td>\n    </tr>\n    <tr>\n      <th>9997</th>\n      <td>6</td>\n      <td>83</td>\n      <td>Yes</td>\n      <td>8</td>\n      <td>5</td>\n      <td>74.0</td>\n    </tr>\n    <tr>\n      <th>9998</th>\n      <td>9</td>\n      <td>97</td>\n      <td>Yes</td>\n      <td>7</td>\n      <td>0</td>\n      <td>95.0</td>\n    </tr>\n    <tr>\n      <th>9999</th>\n      <td>7</td>\n      <td>74</td>\n      <td>No</td>\n      <td>8</td>\n      <td>1</td>\n      <td>64.0</td>\n    </tr>\n  </tbody>\n</table>\n<p>10000 rows × 6 columns</p>\n</div>"
     },
     "metadata": {},
     "output_type": "display_data"
    }
   ]
  },
  {
   "cell_type": "code",
   "source": [
    "df[\"Extracurricular Activities\"] = df[\"Extracurricular Activities\"].map({\"Yes\": 1, \"No\": 0})\n",
    "display(df)"
   ],
   "metadata": {
    "collapsed": false,
    "execution": {
     "iopub.status.busy": "2023-11-26T15:19:29.343238Z",
     "iopub.execute_input": "2023-11-26T15:19:29.343671Z",
     "iopub.status.idle": "2023-11-26T15:19:29.371651Z",
     "shell.execute_reply.started": "2023-11-26T15:19:29.343638Z",
     "shell.execute_reply": "2023-11-26T15:19:29.368080Z"
    },
    "trusted": true,
    "ExecuteTime": {
     "end_time": "2023-12-13T13:40:34.846869866Z",
     "start_time": "2023-12-13T13:40:34.726549678Z"
    }
   },
   "execution_count": 5,
   "outputs": [
    {
     "data": {
      "text/plain": "      Hours Studied  Previous Scores  Extracurricular Activities  Sleep Hours  \\\n0                 7               99                           1            9   \n1                 4               82                           0            4   \n2                 8               51                           1            7   \n3                 5               52                           1            5   \n4                 7               75                           0            8   \n...             ...              ...                         ...          ...   \n9995              1               49                           1            4   \n9996              7               64                           1            8   \n9997              6               83                           1            8   \n9998              9               97                           1            7   \n9999              7               74                           0            8   \n\n      Sample Question Papers Practiced  Performance Index  \n0                                    1               91.0  \n1                                    2               65.0  \n2                                    2               45.0  \n3                                    2               36.0  \n4                                    5               66.0  \n...                                ...                ...  \n9995                                 2               23.0  \n9996                                 5               58.0  \n9997                                 5               74.0  \n9998                                 0               95.0  \n9999                                 1               64.0  \n\n[10000 rows x 6 columns]",
      "text/html": "<div>\n<style scoped>\n    .dataframe tbody tr th:only-of-type {\n        vertical-align: middle;\n    }\n\n    .dataframe tbody tr th {\n        vertical-align: top;\n    }\n\n    .dataframe thead th {\n        text-align: right;\n    }\n</style>\n<table border=\"1\" class=\"dataframe\">\n  <thead>\n    <tr style=\"text-align: right;\">\n      <th></th>\n      <th>Hours Studied</th>\n      <th>Previous Scores</th>\n      <th>Extracurricular Activities</th>\n      <th>Sleep Hours</th>\n      <th>Sample Question Papers Practiced</th>\n      <th>Performance Index</th>\n    </tr>\n  </thead>\n  <tbody>\n    <tr>\n      <th>0</th>\n      <td>7</td>\n      <td>99</td>\n      <td>1</td>\n      <td>9</td>\n      <td>1</td>\n      <td>91.0</td>\n    </tr>\n    <tr>\n      <th>1</th>\n      <td>4</td>\n      <td>82</td>\n      <td>0</td>\n      <td>4</td>\n      <td>2</td>\n      <td>65.0</td>\n    </tr>\n    <tr>\n      <th>2</th>\n      <td>8</td>\n      <td>51</td>\n      <td>1</td>\n      <td>7</td>\n      <td>2</td>\n      <td>45.0</td>\n    </tr>\n    <tr>\n      <th>3</th>\n      <td>5</td>\n      <td>52</td>\n      <td>1</td>\n      <td>5</td>\n      <td>2</td>\n      <td>36.0</td>\n    </tr>\n    <tr>\n      <th>4</th>\n      <td>7</td>\n      <td>75</td>\n      <td>0</td>\n      <td>8</td>\n      <td>5</td>\n      <td>66.0</td>\n    </tr>\n    <tr>\n      <th>...</th>\n      <td>...</td>\n      <td>...</td>\n      <td>...</td>\n      <td>...</td>\n      <td>...</td>\n      <td>...</td>\n    </tr>\n    <tr>\n      <th>9995</th>\n      <td>1</td>\n      <td>49</td>\n      <td>1</td>\n      <td>4</td>\n      <td>2</td>\n      <td>23.0</td>\n    </tr>\n    <tr>\n      <th>9996</th>\n      <td>7</td>\n      <td>64</td>\n      <td>1</td>\n      <td>8</td>\n      <td>5</td>\n      <td>58.0</td>\n    </tr>\n    <tr>\n      <th>9997</th>\n      <td>6</td>\n      <td>83</td>\n      <td>1</td>\n      <td>8</td>\n      <td>5</td>\n      <td>74.0</td>\n    </tr>\n    <tr>\n      <th>9998</th>\n      <td>9</td>\n      <td>97</td>\n      <td>1</td>\n      <td>7</td>\n      <td>0</td>\n      <td>95.0</td>\n    </tr>\n    <tr>\n      <th>9999</th>\n      <td>7</td>\n      <td>74</td>\n      <td>0</td>\n      <td>8</td>\n      <td>1</td>\n      <td>64.0</td>\n    </tr>\n  </tbody>\n</table>\n<p>10000 rows × 6 columns</p>\n</div>"
     },
     "metadata": {},
     "output_type": "display_data"
    }
   ]
  },
  {
   "cell_type": "code",
   "source": [
    "df[\"Sleep-Study hours relation\"] = df[\"Hours Studied\"] / df[\"Sleep Hours\"]"
   ],
   "metadata": {
    "execution": {
     "iopub.status.busy": "2023-11-26T15:25:22.357080Z",
     "iopub.execute_input": "2023-11-26T15:25:22.357578Z",
     "iopub.status.idle": "2023-11-26T15:25:22.367644Z",
     "shell.execute_reply.started": "2023-11-26T15:25:22.357536Z",
     "shell.execute_reply": "2023-11-26T15:25:22.365679Z"
    },
    "trusted": true,
    "ExecuteTime": {
     "end_time": "2023-12-13T13:40:35.030788464Z",
     "start_time": "2023-12-13T13:40:34.933237137Z"
    }
   },
   "execution_count": 6,
   "outputs": []
  },
  {
   "cell_type": "code",
   "source": [
    "df"
   ],
   "metadata": {
    "execution": {
     "iopub.status.busy": "2023-11-26T15:25:25.766849Z",
     "iopub.execute_input": "2023-11-26T15:25:25.767244Z",
     "iopub.status.idle": "2023-11-26T15:25:25.783817Z",
     "shell.execute_reply.started": "2023-11-26T15:25:25.767212Z",
     "shell.execute_reply": "2023-11-26T15:25:25.782864Z"
    },
    "trusted": true,
    "ExecuteTime": {
     "end_time": "2023-12-13T13:40:35.434254921Z",
     "start_time": "2023-12-13T13:40:35.393552906Z"
    }
   },
   "execution_count": 7,
   "outputs": [
    {
     "data": {
      "text/plain": "      Hours Studied  Previous Scores  Extracurricular Activities  Sleep Hours  \\\n0                 7               99                           1            9   \n1                 4               82                           0            4   \n2                 8               51                           1            7   \n3                 5               52                           1            5   \n4                 7               75                           0            8   \n...             ...              ...                         ...          ...   \n9995              1               49                           1            4   \n9996              7               64                           1            8   \n9997              6               83                           1            8   \n9998              9               97                           1            7   \n9999              7               74                           0            8   \n\n      Sample Question Papers Practiced  Performance Index  \\\n0                                    1               91.0   \n1                                    2               65.0   \n2                                    2               45.0   \n3                                    2               36.0   \n4                                    5               66.0   \n...                                ...                ...   \n9995                                 2               23.0   \n9996                                 5               58.0   \n9997                                 5               74.0   \n9998                                 0               95.0   \n9999                                 1               64.0   \n\n      Sleep-Study hours relation  \n0                       0.777778  \n1                       1.000000  \n2                       1.142857  \n3                       1.000000  \n4                       0.875000  \n...                          ...  \n9995                    0.250000  \n9996                    0.875000  \n9997                    0.750000  \n9998                    1.285714  \n9999                    0.875000  \n\n[10000 rows x 7 columns]",
      "text/html": "<div>\n<style scoped>\n    .dataframe tbody tr th:only-of-type {\n        vertical-align: middle;\n    }\n\n    .dataframe tbody tr th {\n        vertical-align: top;\n    }\n\n    .dataframe thead th {\n        text-align: right;\n    }\n</style>\n<table border=\"1\" class=\"dataframe\">\n  <thead>\n    <tr style=\"text-align: right;\">\n      <th></th>\n      <th>Hours Studied</th>\n      <th>Previous Scores</th>\n      <th>Extracurricular Activities</th>\n      <th>Sleep Hours</th>\n      <th>Sample Question Papers Practiced</th>\n      <th>Performance Index</th>\n      <th>Sleep-Study hours relation</th>\n    </tr>\n  </thead>\n  <tbody>\n    <tr>\n      <th>0</th>\n      <td>7</td>\n      <td>99</td>\n      <td>1</td>\n      <td>9</td>\n      <td>1</td>\n      <td>91.0</td>\n      <td>0.777778</td>\n    </tr>\n    <tr>\n      <th>1</th>\n      <td>4</td>\n      <td>82</td>\n      <td>0</td>\n      <td>4</td>\n      <td>2</td>\n      <td>65.0</td>\n      <td>1.000000</td>\n    </tr>\n    <tr>\n      <th>2</th>\n      <td>8</td>\n      <td>51</td>\n      <td>1</td>\n      <td>7</td>\n      <td>2</td>\n      <td>45.0</td>\n      <td>1.142857</td>\n    </tr>\n    <tr>\n      <th>3</th>\n      <td>5</td>\n      <td>52</td>\n      <td>1</td>\n      <td>5</td>\n      <td>2</td>\n      <td>36.0</td>\n      <td>1.000000</td>\n    </tr>\n    <tr>\n      <th>4</th>\n      <td>7</td>\n      <td>75</td>\n      <td>0</td>\n      <td>8</td>\n      <td>5</td>\n      <td>66.0</td>\n      <td>0.875000</td>\n    </tr>\n    <tr>\n      <th>...</th>\n      <td>...</td>\n      <td>...</td>\n      <td>...</td>\n      <td>...</td>\n      <td>...</td>\n      <td>...</td>\n      <td>...</td>\n    </tr>\n    <tr>\n      <th>9995</th>\n      <td>1</td>\n      <td>49</td>\n      <td>1</td>\n      <td>4</td>\n      <td>2</td>\n      <td>23.0</td>\n      <td>0.250000</td>\n    </tr>\n    <tr>\n      <th>9996</th>\n      <td>7</td>\n      <td>64</td>\n      <td>1</td>\n      <td>8</td>\n      <td>5</td>\n      <td>58.0</td>\n      <td>0.875000</td>\n    </tr>\n    <tr>\n      <th>9997</th>\n      <td>6</td>\n      <td>83</td>\n      <td>1</td>\n      <td>8</td>\n      <td>5</td>\n      <td>74.0</td>\n      <td>0.750000</td>\n    </tr>\n    <tr>\n      <th>9998</th>\n      <td>9</td>\n      <td>97</td>\n      <td>1</td>\n      <td>7</td>\n      <td>0</td>\n      <td>95.0</td>\n      <td>1.285714</td>\n    </tr>\n    <tr>\n      <th>9999</th>\n      <td>7</td>\n      <td>74</td>\n      <td>0</td>\n      <td>8</td>\n      <td>1</td>\n      <td>64.0</td>\n      <td>0.875000</td>\n    </tr>\n  </tbody>\n</table>\n<p>10000 rows × 7 columns</p>\n</div>"
     },
     "execution_count": 7,
     "metadata": {},
     "output_type": "execute_result"
    }
   ]
  },
  {
   "cell_type": "code",
   "source": [
    "col_cnt = len(df.columns)\n",
    "i = 1\n",
    "plt.rcParams[\"figure.figsize\"] = (25, 4)\n",
    "\n",
    "for col in df.columns:\n",
    "    if col == \"Extracurricular Activities\":\n",
    "        continue\n",
    "    plt.subplot(1, col_cnt, i)\n",
    "    plt.boxplot(df[col])\n",
    "    plt.title(col)\n",
    "    i += 1\n",
    "\n",
    "plt.show()"
   ],
   "metadata": {
    "collapsed": false,
    "execution": {
     "iopub.status.busy": "2023-11-26T15:25:31.172046Z",
     "iopub.execute_input": "2023-11-26T15:25:31.172607Z",
     "iopub.status.idle": "2023-11-26T15:25:32.155096Z",
     "shell.execute_reply.started": "2023-11-26T15:25:31.172562Z",
     "shell.execute_reply": "2023-11-26T15:25:32.153086Z"
    },
    "trusted": true,
    "ExecuteTime": {
     "end_time": "2023-12-13T13:40:36.974853227Z",
     "start_time": "2023-12-13T13:40:35.709068148Z"
    }
   },
   "execution_count": 8,
   "outputs": [
    {
     "data": {
      "text/plain": "<Figure size 2500x400 with 6 Axes>",
      "image/png": "[encoded data removed]"
     },
     "metadata": {},
     "output_type": "display_data"
    }
   ]
  },
  {
   "cell_type": "code",
   "source": [
    "std_arr = df.std().to_numpy()\n",
    "mean_arr = df.mean().to_numpy()\n",
    "\n",
    "min_arr = df.min().to_numpy()\n",
    "max_arr = df.max().to_numpy()\n",
    "\n",
    "display(df.std())\n",
    "display(df.mean())"
   ],
   "metadata": {
    "collapsed": false,
    "execution": {
     "iopub.status.busy": "2023-11-26T15:25:35.403652Z",
     "iopub.execute_input": "2023-11-26T15:25:35.404115Z",
     "iopub.status.idle": "2023-11-26T15:25:35.436101Z",
     "shell.execute_reply.started": "2023-11-26T15:25:35.404078Z",
     "shell.execute_reply": "2023-11-26T15:25:35.434190Z"
    },
    "trusted": true,
    "ExecuteTime": {
     "end_time": "2023-12-13T13:40:37.251210310Z",
     "start_time": "2023-12-13T13:40:36.972624504Z"
    }
   },
   "execution_count": 9,
   "outputs": [
    {
     "data": {
      "text/plain": "Hours Studied                        2.589309\nPrevious Scores                     17.343152\nExtracurricular Activities           0.499998\nSleep Hours                          1.695863\nSample Question Papers Practiced     2.867348\nPerformance Index                   19.212558\nSleep-Study hours relation           0.499870\ndtype: float64"
     },
     "metadata": {},
     "output_type": "display_data"
    },
    {
     "data": {
      "text/plain": "Hours Studied                        4.992900\nPrevious Scores                     69.445700\nExtracurricular Activities           0.494800\nSleep Hours                          6.530600\nSample Question Papers Practiced     4.583300\nPerformance Index                   55.224800\nSleep-Study hours relation           0.823474\ndtype: float64"
     },
     "metadata": {},
     "output_type": "display_data"
    }
   ]
  },
  {
   "cell_type": "code",
   "source": [
    "for i, col in enumerate(df.columns):\n",
    "    if col == \"Extracurricular Activities\" or \"Performance Index\":\n",
    "        continue\n",
    "    df[col] = (df[col] - min_arr[i]) / (max_arr[i] - min_arr[i])"
   ],
   "metadata": {
    "collapsed": false,
    "execution": {
     "iopub.status.busy": "2023-11-26T15:25:37.415449Z",
     "iopub.execute_input": "2023-11-26T15:25:37.415939Z",
     "iopub.status.idle": "2023-11-26T15:25:37.423549Z",
     "shell.execute_reply.started": "2023-11-26T15:25:37.415899Z",
     "shell.execute_reply": "2023-11-26T15:25:37.421547Z"
    },
    "trusted": true,
    "ExecuteTime": {
     "end_time": "2023-12-13T13:40:37.251753889Z",
     "start_time": "2023-12-13T13:40:37.013329103Z"
    }
   },
   "execution_count": 10,
   "outputs": []
  },
  {
   "cell_type": "code",
   "source": [
    "display(df)\n",
    "display(df.std())\n",
    "display(df.mean())"
   ],
   "metadata": {
    "collapsed": false,
    "execution": {
     "iopub.status.busy": "2023-11-26T15:25:40.123808Z",
     "iopub.execute_input": "2023-11-26T15:25:40.124204Z",
     "iopub.status.idle": "2023-11-26T15:25:40.155945Z",
     "shell.execute_reply.started": "2023-11-26T15:25:40.124172Z",
     "shell.execute_reply": "2023-11-26T15:25:40.155092Z"
    },
    "trusted": true,
    "ExecuteTime": {
     "end_time": "2023-12-13T13:40:37.281542626Z",
     "start_time": "2023-12-13T13:40:37.071815019Z"
    }
   },
   "execution_count": 11,
   "outputs": [
    {
     "data": {
      "text/plain": "      Hours Studied  Previous Scores  Extracurricular Activities  Sleep Hours  \\\n0                 7               99                           1            9   \n1                 4               82                           0            4   \n2                 8               51                           1            7   \n3                 5               52                           1            5   \n4                 7               75                           0            8   \n...             ...              ...                         ...          ...   \n9995              1               49                           1            4   \n9996              7               64                           1            8   \n9997              6               83                           1            8   \n9998              9               97                           1            7   \n9999              7               74                           0            8   \n\n      Sample Question Papers Practiced  Performance Index  \\\n0                                    1               91.0   \n1                                    2               65.0   \n2                                    2               45.0   \n3                                    2               36.0   \n4                                    5               66.0   \n...                                ...                ...   \n9995                                 2               23.0   \n9996                                 5               58.0   \n9997                                 5               74.0   \n9998                                 0               95.0   \n9999                                 1               64.0   \n\n      Sleep-Study hours relation  \n0                       0.777778  \n1                       1.000000  \n2                       1.142857  \n3                       1.000000  \n4                       0.875000  \n...                          ...  \n9995                    0.250000  \n9996                    0.875000  \n9997                    0.750000  \n9998                    1.285714  \n9999                    0.875000  \n\n[10000 rows x 7 columns]",
      "text/html": "<div>\n<style scoped>\n    .dataframe tbody tr th:only-of-type {\n        vertical-align: middle;\n    }\n\n    .dataframe tbody tr th {\n        vertical-align: top;\n    }\n\n    .dataframe thead th {\n        text-align: right;\n    }\n</style>\n<table border=\"1\" class=\"dataframe\">\n  <thead>\n    <tr style=\"text-align: right;\">\n      <th></th>\n      <th>Hours Studied</th>\n      <th>Previous Scores</th>\n      <th>Extracurricular Activities</th>\n      <th>Sleep Hours</th>\n      <th>Sample Question Papers Practiced</th>\n      <th>Performance Index</th>\n      <th>Sleep-Study hours relation</th>\n    </tr>\n  </thead>\n  <tbody>\n    <tr>\n      <th>0</th>\n      <td>7</td>\n      <td>99</td>\n      <td>1</td>\n      <td>9</td>\n      <td>1</td>\n      <td>91.0</td>\n      <td>0.777778</td>\n    </tr>\n    <tr>\n      <th>1</th>\n      <td>4</td>\n      <td>82</td>\n      <td>0</td>\n      <td>4</td>\n      <td>2</td>\n      <td>65.0</td>\n      <td>1.000000</td>\n    </tr>\n    <tr>\n      <th>2</th>\n      <td>8</td>\n      <td>51</td>\n      <td>1</td>\n      <td>7</td>\n      <td>2</td>\n      <td>45.0</td>\n      <td>1.142857</td>\n    </tr>\n    <tr>\n      <th>3</th>\n      <td>5</td>\n      <td>52</td>\n      <td>1</td>\n      <td>5</td>\n      <td>2</td>\n      <td>36.0</td>\n      <td>1.000000</td>\n    </tr>\n    <tr>\n      <th>4</th>\n      <td>7</td>\n      <td>75</td>\n      <td>0</td>\n      <td>8</td>\n      <td>5</td>\n      <td>66.0</td>\n      <td>0.875000</td>\n    </tr>\n    <tr>\n      <th>...</th>\n      <td>...</td>\n      <td>...</td>\n      <td>...</td>\n      <td>...</td>\n      <td>...</td>\n      <td>...</td>\n      <td>...</td>\n    </tr>\n    <tr>\n      <th>9995</th>\n      <td>1</td>\n      <td>49</td>\n      <td>1</td>\n      <td>4</td>\n      <td>2</td>\n      <td>23.0</td>\n      <td>0.250000</td>\n    </tr>\n    <tr>\n      <th>9996</th>\n      <td>7</td>\n      <td>64</td>\n      <td>1</td>\n      <td>8</td>\n      <td>5</td>\n      <td>58.0</td>\n      <td>0.875000</td>\n    </tr>\n    <tr>\n      <th>9997</th>\n      <td>6</td>\n      <td>83</td>\n      <td>1</td>\n      <td>8</td>\n      <td>5</td>\n      <td>74.0</td>\n      <td>0.750000</td>\n    </tr>\n    <tr>\n      <th>9998</th>\n      <td>9</td>\n      <td>97</td>\n      <td>1</td>\n      <td>7</td>\n      <td>0</td>\n      <td>95.0</td>\n      <td>1.285714</td>\n    </tr>\n    <tr>\n      <th>9999</th>\n      <td>7</td>\n      <td>74</td>\n      <td>0</td>\n      <td>8</td>\n      <td>1</td>\n      <td>64.0</td>\n      <td>0.875000</td>\n    </tr>\n  </tbody>\n</table>\n<p>10000 rows × 7 columns</p>\n</div>"
     },
     "metadata": {},
     "output_type": "display_data"
    },
    {
     "data": {
      "text/plain": "Hours Studied                        2.589309\nPrevious Scores                     17.343152\nExtracurricular Activities           0.499998\nSleep Hours                          1.695863\nSample Question Papers Practiced     2.867348\nPerformance Index                   19.212558\nSleep-Study hours relation           0.499870\ndtype: float64"
     },
     "metadata": {},
     "output_type": "display_data"
    },
    {
     "data": {
      "text/plain": "Hours Studied                        4.992900\nPrevious Scores                     69.445700\nExtracurricular Activities           0.494800\nSleep Hours                          6.530600\nSample Question Papers Practiced     4.583300\nPerformance Index                   55.224800\nSleep-Study hours relation           0.823474\ndtype: float64"
     },
     "metadata": {},
     "output_type": "display_data"
    }
   ]
  },
  {
   "cell_type": "code",
   "source": [
    "train_percent = 0.6\n",
    "random_state = hash(\"9/11 bush is guilty\") % (2**32 - 1)\n",
    "\n",
    "train = df.sample(frac=train_percent, random_state=random_state)\n",
    "test = df.drop(train.index)\n",
    "train_x = train.drop(\"Performance Index\", axis=1)\n",
    "train_y = train[\"Performance Index\"]\n",
    "test_x = test.drop(\"Performance Index\", axis=1)\n",
    "test_y = test[\"Performance Index\"]"
   ],
   "metadata": {
    "collapsed": false,
    "execution": {
     "iopub.status.busy": "2023-11-26T15:25:42.383411Z",
     "iopub.execute_input": "2023-11-26T15:25:42.383793Z",
     "iopub.status.idle": "2023-11-26T15:25:42.397966Z",
     "shell.execute_reply.started": "2023-11-26T15:25:42.383763Z",
     "shell.execute_reply": "2023-11-26T15:25:42.396410Z"
    },
    "trusted": true,
    "ExecuteTime": {
     "end_time": "2023-12-13T13:40:37.282161216Z",
     "start_time": "2023-12-13T13:40:37.101164032Z"
    }
   },
   "execution_count": 12,
   "outputs": []
  },
  {
   "cell_type": "code",
   "source": [
    "class MultiLinearRegression:\n",
    "    def __init__(self):\n",
    "        self.w_arr = None\n",
    "\n",
    "    def fit(self, fit_x, fit_y):\n",
    "        fit_x = np.hstack((np.ones((fit_x.shape[0], 1)), fit_x))\n",
    "        fit_y = fit_y.reshape(-1, 1)\n",
    "        self.w_arr = np.linalg.inv(fit_x.T.dot(fit_x)).dot(fit_x.T).dot(fit_y)\n",
    "\n",
    "    def predict(self, pred_x):\n",
    "        pred_x = np.hstack((np.ones((pred_x.shape[0], 1)), pred_x))\n",
    "        return pred_x.dot(self.w_arr)"
   ],
   "metadata": {
    "collapsed": false,
    "execution": {
     "iopub.status.busy": "2023-11-26T15:25:45.648902Z",
     "iopub.execute_input": "2023-11-26T15:25:45.649483Z",
     "iopub.status.idle": "2023-11-26T15:25:45.658118Z",
     "shell.execute_reply.started": "2023-11-26T15:25:45.649438Z",
     "shell.execute_reply": "2023-11-26T15:25:45.656802Z"
    },
    "trusted": true,
    "ExecuteTime": {
     "end_time": "2023-12-13T13:40:37.282504628Z",
     "start_time": "2023-12-13T13:40:37.101647547Z"
    }
   },
   "execution_count": 13,
   "outputs": []
  },
  {
   "cell_type": "code",
   "source": [
    "mlr = MultiLinearRegression()\n",
    "mlr.fit(train_x.to_numpy(), train_y.to_numpy())\n",
    "pred_y = mlr.predict(test_x)"
   ],
   "metadata": {
    "collapsed": false,
    "execution": {
     "iopub.status.busy": "2023-11-26T15:25:53.156681Z",
     "iopub.execute_input": "2023-11-26T15:25:53.157243Z",
     "iopub.status.idle": "2023-11-26T15:25:53.172147Z",
     "shell.execute_reply.started": "2023-11-26T15:25:53.157196Z",
     "shell.execute_reply": "2023-11-26T15:25:53.170175Z"
    },
    "trusted": true,
    "ExecuteTime": {
     "end_time": "2023-12-13T13:40:37.282847552Z",
     "start_time": "2023-12-13T13:40:37.101982858Z"
    }
   },
   "execution_count": 14,
   "outputs": []
  },
  {
   "cell_type": "code",
   "source": [
    "def calc_r2_score(y_test, y_pred):\n",
    "    y_avg = np.mean(y_test)\n",
    "    ss_ttl = sum((y_test - y_avg) ** 2)\n",
    "    ss_res = sum((y_test - y_pred) ** 2)\n",
    "    _r2 = 1 - ss_res / ss_ttl\n",
    "    return _r2\n"
   ],
   "metadata": {
    "collapsed": false,
    "execution": {
     "iopub.status.busy": "2023-11-26T15:25:55.573050Z",
     "iopub.execute_input": "2023-11-26T15:25:55.573580Z",
     "iopub.status.idle": "2023-11-26T15:25:55.582778Z",
     "shell.execute_reply.started": "2023-11-26T15:25:55.573538Z",
     "shell.execute_reply": "2023-11-26T15:25:55.580663Z"
    },
    "trusted": true,
    "ExecuteTime": {
     "end_time": "2023-12-13T13:40:37.488499677Z",
     "start_time": "2023-12-13T13:40:37.417762942Z"
    }
   },
   "execution_count": 15,
   "outputs": []
  },
  {
   "cell_type": "code",
   "source": [
    "feature_sets = [\n",
    "    df.drop(\"Performance Index\", axis = 1).columns,\n",
    "    df.drop(\"Performance Index\", axis = 1).drop(\"Extracurricular Activities\", axis = 1).drop(\"Previous Scores\", axis = 1).columns,\n",
    "    df.drop(\"Performance Index\", axis = 1).drop(\"Sample Question Papers Practiced\", axis = 1).drop(\"Hours Studied\", axis = 1).columns\n",
    "]\n",
    "\n",
    "for entry in feature_sets:\n",
    "    \n",
    "    mlr = MultiLinearRegression()\n",
    "    mlr.fit(train_x[entry].to_numpy(), train_y.to_numpy())\n",
    "    pred = mlr.predict(test_x[entry].to_numpy())\n",
    "    r2 = calc_r2_score(test_y.values, pred.flatten())\n",
    "    print(entry, r2)"
   ],
   "metadata": {
    "collapsed": false,
    "execution": {
     "iopub.status.busy": "2023-11-26T15:26:08.737196Z",
     "iopub.execute_input": "2023-11-26T15:26:08.737711Z",
     "iopub.status.idle": "2023-11-26T15:26:08.772610Z",
     "shell.execute_reply.started": "2023-11-26T15:26:08.737673Z",
     "shell.execute_reply": "2023-11-26T15:26:08.770864Z"
    },
    "trusted": true,
    "ExecuteTime": {
     "end_time": "2023-12-13T13:40:37.704283132Z",
     "start_time": "2023-12-13T13:40:37.642715095Z"
    }
   },
   "execution_count": 16,
   "outputs": [
    {
     "name": "stdout",
     "output_type": "stream",
     "text": [
      "Index(['Hours Studied', 'Previous Scores', 'Extracurricular Activities',\n",
      "       'Sleep Hours', 'Sample Question Papers Practiced',\n",
      "       'Sleep-Study hours relation'],\n",
      "      dtype='object') 0.988409079153322\n",
      "Index(['Hours Studied', 'Sleep Hours', 'Sample Question Papers Practiced',\n",
      "       'Sleep-Study hours relation'],\n",
      "      dtype='object') 0.15280165233135723\n",
      "Index(['Previous Scores', 'Extracurricular Activities', 'Sleep Hours',\n",
      "       'Sleep-Study hours relation'],\n",
      "      dtype='object') 0.9739823185093204\n"
     ]
    }
   ]
  }
 ]
}
